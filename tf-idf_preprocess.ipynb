{
 "cells": [
  {
   "cell_type": "code",
<<<<<<< HEAD
   "execution_count": 1,
=======
   "execution_count": 32,
>>>>>>> ef17ee0b9a9486a73a475fded6325191b04e84f9
   "metadata": {},
   "outputs": [],
   "source": [
    "from lxml import etree\n",
    "import os.path\n",
    "import fnmatch"
   ]
  },
  {
   "cell_type": "code",
<<<<<<< HEAD
   "execution_count": 2,
   "metadata": {},
   "outputs": [],
   "source": [
    "path_to_folder = \"/home/odysseus/Bureau/ANR/corpus/tagged_rest/\""
=======
   "execution_count": 33,
   "metadata": {},
   "outputs": [],
   "source": [
    "path_to_folder = \"/home/odysseus/Bureau/chapitres/git_repo/restreint_tagged/\""
>>>>>>> ef17ee0b9a9486a73a475fded6325191b04e84f9
   ]
  },
  {
   "cell_type": "code",
<<<<<<< HEAD
   "execution_count": 3,
=======
   "execution_count": 34,
>>>>>>> ef17ee0b9a9486a73a475fded6325191b04e84f9
   "metadata": {},
   "outputs": [],
   "source": [
    "files_list=fnmatch.filter(os.listdir(path_to_folder), '*.xml')"
   ]
  },
  {
   "cell_type": "code",
<<<<<<< HEAD
   "execution_count": 34,
   "metadata": {},
   "outputs": [],
   "source": [
    "#pour mesurer les chapitres\n",
=======
   "execution_count": 37,
   "metadata": {},
   "outputs": [],
   "source": [
>>>>>>> ef17ee0b9a9486a73a475fded6325191b04e84f9
    "chaps=list()\n",
    "for file in files_list:\n",
    "    tmpFile=file.replace(\"/\",\":\")\n",
    "    full_path=path_to_folder+tmpFile\n",
    "    if os.path.isfile(full_path):\n",
    "        tree=etree.parse(full_path)\n",
    "        if tree.findall(\".//div[@type='chapter']\"):\n",
<<<<<<< HEAD
    "            elem = tree.findall(\".//div[@type='chapter']\")[1:len(tree.findall(\".//div[@type='chapter']\"))]\n",
    "            for chap in elem :\n",
    "                for word in chap.findall(\".//word\"):\n",
    "                    if word.attrib['lemma']:\n",
    "                        if 'ADJ' in word.attrib['postag']:\n",
    "                            chaps.append (word.attrib['lemma'])"
   ]
  },
  {
   "cell_type": "code",
   "execution_count": 41,
   "metadata": {},
   "outputs": [],
   "source": [
    "#pour mesurer par tranches de mots\n",
    "chaps=list()\n",
    "for file in files_list:\n",
    "    tmpFile=file.replace(\"/\",\":\")\n",
    "    full_path=path_to_folder+tmpFile\n",
    "    if os.path.isfile(full_path):\n",
    "        tree=etree.parse(full_path)\n",
    "        for word in tree.findall(\".//word\")[len(tree.findall(\".//word\"))-251:len(tree.findall(\".//word\"))-1]:\n",
    "            nbmots+=1\n",
    "            if word.attrib['lemma']:\n",
    "                if 'ADJ' in word.attrib['postag']:\n",
=======
    "            elem = tree.findall(\".//div[@type='chapter']\")[0]\n",
    "            for word in elem.findall(\".//word\"):\n",
    "                if word.attrib['lemma']:\n",
>>>>>>> ef17ee0b9a9486a73a475fded6325191b04e84f9
    "                    chaps.append (word.attrib['lemma'])"
   ]
  },
  {
   "cell_type": "code",
<<<<<<< HEAD
   "execution_count": 42,
   "metadata": {},
   "outputs": [],
   "source": [
    "with open(\"chaps-250_last_adj_rest.txt\", \"w\") as output_file:\n",
=======
   "execution_count": 38,
   "metadata": {},
   "outputs": [],
   "source": [
    "with open(\"chaps-firstChaps_restreint.txt\", \"w\") as output_file:\n",
>>>>>>> ef17ee0b9a9486a73a475fded6325191b04e84f9
    "    for value in chaps:\n",
    "        output_file.write(value+\" \")"
   ]
  },
  {
   "cell_type": "code",
   "execution_count": null,
   "metadata": {},
   "outputs": [],
   "source": []
  }
 ],
 "metadata": {
  "kernelspec": {
   "display_name": "Python 3",
   "language": "python",
   "name": "python3"
  },
  "language_info": {
   "codemirror_mode": {
    "name": "ipython",
    "version": 3
   },
   "file_extension": ".py",
   "mimetype": "text/x-python",
   "name": "python",
   "nbconvert_exporter": "python",
   "pygments_lexer": "ipython3",
   "version": "3.5.2"
  }
 },
 "nbformat": 4,
 "nbformat_minor": 2
}
